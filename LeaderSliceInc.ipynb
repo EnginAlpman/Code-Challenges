{
 "cells": [
  {
   "cell_type": "markdown",
   "metadata": {},
   "source": [
    "# LeaderSliceInc\n",
    "\n",
    "Integers K, M and a non-empty array A consisting of N integers, not bigger than M, are given.\n",
    "\n",
    "The leader of the array is a value that occurs in more than half of the elements of the array, and the segment of the array is a sequence of consecutive elements of the array.\n",
    "\n",
    "You can modify A by choosing exactly one segment of length K and increasing by 1 every element within that segment.\n",
    "\n",
    "The goal is to find all of the numbers that may become a leader after performing exactly one array modification as described above.\n",
    "\n",
    "Write a function:\n",
    "\n",
    "class Solution { public int[] solution(int K, int M, int[] A); }\n",
    "\n",
    "that, given integers K and M and an array A consisting of N integers, returns an array of all numbers that can become a leader, after increasing by 1 every element of exactly one segment of A of length K. The returned array should be sorted in ascending order, and if there is no number that can become a leader, you should return an empty array. Moreover, if there are multiple ways of choosing a segment to turn some number into a leader, then this particular number should appear in an output array only once.\n",
    "\n",
    "For example, given integers K = 3, M = 5 and the following array A:\n",
    "\n",
    "  A[0] = 2\n",
    "  \n",
    "  A[1] = 1\n",
    "  \n",
    "  A[2] = 3\n",
    "  \n",
    "  A[3] = 1\n",
    "  \n",
    "  A[4] = 2\n",
    "  \n",
    "  A[5] = 2\n",
    "  \n",
    "  A[6] = 3\n",
    "  \n",
    "the function should return [2, 3]. If we choose segment A[1], A[2], A[3] then we get the following array A:\n",
    "\n",
    "  A[0] = 2\n",
    "  \n",
    "  A[1] = 2\n",
    "  \n",
    "  A[2] = 4\n",
    "  \n",
    "  A[3] = 2\n",
    "  \n",
    "  A[4] = 2\n",
    "  \n",
    "  A[5] = 2\n",
    "  \n",
    "  A[6] = 3\n",
    "  \n",
    "and 2 is the leader of this array. If we choose A[3], A[4], A[5] then A will appear as follows:\n",
    "\n",
    "  A[0] = 2\n",
    "  \n",
    "  A[1] = 1\n",
    "  \n",
    "  A[2] = 3\n",
    "  \n",
    "  A[3] = 2\n",
    "  \n",
    "  A[4] = 3\n",
    "  \n",
    "  A[5] = 3\n",
    "  \n",
    "  A[6] = 3\n",
    "  \n",
    "and 3 will be the leader.\n",
    "\n",
    "### -------------------------------------------------------------------------------------------\n",
    "\n",
    "And, for example, given integers K = 4, M = 2 and the following array:\n",
    "\n",
    "  A[0] = 1\n",
    "  \n",
    "  A[1] = 2\n",
    "  \n",
    "  A[2] = 2\n",
    "  \n",
    "  A[3] = 1\n",
    "  \n",
    "  A[4] = 2\n",
    "  \n",
    "the function should return [2, 3], because choosing a segment A[0], A[1], A[2], A[3] and A[1], A[2], A[3], A[4] turns 2 and 3 into the leaders, respectively."
   ]
  },
  {
   "cell_type": "code",
   "execution_count": 1,
   "metadata": {},
   "outputs": [],
   "source": [
    "def generate_sub_idx(A,K):\n",
    "    for i in range(len(A)-K+1):\n",
    "        yield slice(i,i+K,1)"
   ]
  },
  {
   "cell_type": "code",
   "execution_count": 2,
   "metadata": {},
   "outputs": [],
   "source": [
    "def is_leader(ln,d,k):\n",
    "    if d[k] >= (ln+1)/2:\n",
    "        return True\n",
    "    else:\n",
    "        return False"
   ]
  },
  {
   "cell_type": "code",
   "execution_count": 3,
   "metadata": {},
   "outputs": [],
   "source": [
    "def LeaderSliceInc(K, M, A):\n",
    "    ln = len(A)\n",
    "    count_d = {}\n",
    "    for e in A:\n",
    "        count_d[e] = A.count(e)\n",
    "\n",
    "        \n",
    "    \n",
    "        \n",
    "    res = set()\n",
    "    for slc in generate_sub_idx(A,K):\n",
    "        \n",
    "        count_d_c = count_d.copy()\n",
    "        for e in A[slc]:\n",
    "            if e+1 not in count_d_c:\n",
    "                count_d_c[e+1] = 1\n",
    "                count_d_c[e] -= 1\n",
    "                continue\n",
    "            count_d_c[e+1] += 1\n",
    "            count_d_c[e] -= 1\n",
    "            \n",
    "        for k in count_d_c:\n",
    "            if is_leader(ln,count_d_c,k):\n",
    "                if k not in res:\n",
    "                    res.add(k)\n",
    "                    break\n",
    "        \n",
    "    return sorted(list(res))"
   ]
  },
  {
   "cell_type": "code",
   "execution_count": null,
   "metadata": {},
   "outputs": [],
   "source": []
  },
  {
   "cell_type": "markdown",
   "metadata": {},
   "source": [
    "### test"
   ]
  },
  {
   "cell_type": "code",
   "execution_count": 7,
   "metadata": {},
   "outputs": [
    {
     "data": {
      "text/plain": [
       "[2, 3]"
      ]
     },
     "execution_count": 7,
     "metadata": {},
     "output_type": "execute_result"
    }
   ],
   "source": [
    "A = [2,1,3,1,2,2,3]\n",
    "\n",
    "LeaderSliceInc(3,5,A)"
   ]
  },
  {
   "cell_type": "code",
   "execution_count": 8,
   "metadata": {},
   "outputs": [
    {
     "data": {
      "text/plain": [
       "[2, 3]"
      ]
     },
     "execution_count": 8,
     "metadata": {},
     "output_type": "execute_result"
    }
   ],
   "source": [
    "B = [1,2,2,1,2]\n",
    "LeaderSliceInc(4,2,B)"
   ]
  },
  {
   "cell_type": "code",
   "execution_count": 10,
   "metadata": {},
   "outputs": [
    {
     "data": {
      "text/plain": [
       "[1]"
      ]
     },
     "execution_count": 10,
     "metadata": {},
     "output_type": "execute_result"
    }
   ],
   "source": [
    "LeaderSliceInc(1, 3, [1, 1, 1])"
   ]
  },
  {
   "cell_type": "code",
   "execution_count": null,
   "metadata": {},
   "outputs": [],
   "source": []
  },
  {
   "cell_type": "code",
   "execution_count": null,
   "metadata": {},
   "outputs": [],
   "source": []
  }
 ],
 "metadata": {
  "kernelspec": {
   "display_name": "Python 3",
   "language": "python",
   "name": "python3"
  },
  "language_info": {
   "codemirror_mode": {
    "name": "ipython",
    "version": 3
   },
   "file_extension": ".py",
   "mimetype": "text/x-python",
   "name": "python",
   "nbconvert_exporter": "python",
   "pygments_lexer": "ipython3",
   "version": "3.7.5"
  }
 },
 "nbformat": 4,
 "nbformat_minor": 2
}
