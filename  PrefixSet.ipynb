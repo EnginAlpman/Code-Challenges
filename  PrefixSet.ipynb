{
 "cells": [
  {
   "cell_type": "markdown",
   "metadata": {},
   "source": [
    "A non-empty array A consisting of N integers is given. The first covering prefix of array A is the smallest integer P such that 0≤P<N and such that every value that occurs in array A also occurs in sequence A[0], A[1], ..., A[P].\n",
    "\n",
    "For example, the first covering prefix of the following 5−element array A:\n",
    "\n",
    "  A[0] = 2\n",
    "  A[1] = 2\n",
    "  A[2] = 1\n",
    "  A[3] = 0\n",
    "  A[4] = 1\n",
    "is 3, because sequence [ A[0], A[1], A[2], A[3] ] equal to [2, 2, 1, 0], contains all values that occur in array A.\n",
    "\n",
    "Write a function\n",
    "\n",
    "def solution(A)\n",
    "\n",
    "that, given a non-empty array A consisting of N integers, returns the first covering prefix of A.\n",
    "\n",
    "For example, given array A such that\n",
    "\n",
    "  A[0] = 2\n",
    "  A[1] = 2\n",
    "  A[2] = 1\n",
    "  A[3] = 0\n",
    "  A[4] = 1\n",
    "the function should return 3, as explained above."
   ]
  },
  {
   "cell_type": "code",
   "execution_count": 1,
   "metadata": {},
   "outputs": [],
   "source": [
    "# Not so efficient algorithm, improved version will be added\n"
   ]
  },
  {
   "cell_type": "code",
   "execution_count": 1,
   "metadata": {},
   "outputs": [],
   "source": [
    "# Time complexity of this algorith is close to N^2, because outside we have for loop iterating over N values\n",
    "# Inside that loop we are searhing element in a unsorted list\n",
    "# and inside that we are adding an element to a list that is not static.\n",
    "def PrefixSet(N):\n",
    "    l = []\n",
    "    c = 0\n",
    "    for i in range(len(N)):\n",
    "        if N[i] not in l:\n",
    "            l.append(N[i])\n",
    "            c = i\n",
    "    return c\n",
    "            \n",
    "            "
   ]
  },
  {
   "cell_type": "code",
   "execution_count": null,
   "metadata": {},
   "outputs": [],
   "source": []
  },
  {
   "cell_type": "markdown",
   "metadata": {},
   "source": [
    "### Test"
   ]
  },
  {
   "cell_type": "code",
   "execution_count": 5,
   "metadata": {},
   "outputs": [],
   "source": [
    "A = [2,2,1,0,1]"
   ]
  },
  {
   "cell_type": "code",
   "execution_count": 6,
   "metadata": {},
   "outputs": [
    {
     "data": {
      "text/plain": [
       "3"
      ]
     },
     "execution_count": 6,
     "metadata": {},
     "output_type": "execute_result"
    }
   ],
   "source": [
    "PrefixSet(A)"
   ]
  },
  {
   "cell_type": "code",
   "execution_count": 7,
   "metadata": {},
   "outputs": [],
   "source": [
    "B = [2,2,1,0,1,8]"
   ]
  },
  {
   "cell_type": "code",
   "execution_count": 8,
   "metadata": {},
   "outputs": [
    {
     "data": {
      "text/plain": [
       "5"
      ]
     },
     "execution_count": 8,
     "metadata": {},
     "output_type": "execute_result"
    }
   ],
   "source": [
    "PrefixSet(B)"
   ]
  },
  {
   "cell_type": "code",
   "execution_count": null,
   "metadata": {},
   "outputs": [],
   "source": []
  },
  {
   "cell_type": "markdown",
   "metadata": {},
   "source": [
    "### Better solution\n",
    "\n",
    "More efficient solution is to use Python dictionary instead of list for comparison, because Python's dictionary is implemented using hash table, searhing inside a hash table is O(1) if we have enough unique categories. (hash table uses combination of array which have random access to a requested element and the linked list, so random access gives us the speed we need in this case)"
   ]
  },
  {
   "cell_type": "code",
   "execution_count": 10,
   "metadata": {},
   "outputs": [],
   "source": [
    "# Time complexity is between O(N) and O(NlogN)\n",
    "def PrefixSet_2(N):\n",
    "    d = {}\n",
    "    c = 0\n",
    "    for i in range(len(N)):\n",
    "        if N[i] not in d:\n",
    "            d[N[i]] = True # value is not important you can assign it to 22, 23.... What is important is to have that key\n",
    "            c = i\n",
    "    return c"
   ]
  },
  {
   "cell_type": "markdown",
   "metadata": {},
   "source": [
    "### Test"
   ]
  },
  {
   "cell_type": "code",
   "execution_count": 3,
   "metadata": {},
   "outputs": [],
   "source": [
    "A = [2,2,1,0,1]"
   ]
  },
  {
   "cell_type": "code",
   "execution_count": 4,
   "metadata": {},
   "outputs": [
    {
     "data": {
      "text/plain": [
       "3"
      ]
     },
     "execution_count": 4,
     "metadata": {},
     "output_type": "execute_result"
    }
   ],
   "source": [
    "PrefixSet_2(A)"
   ]
  },
  {
   "cell_type": "code",
   "execution_count": 8,
   "metadata": {},
   "outputs": [],
   "source": [
    "B = [2,2,1,0,1,8]"
   ]
  },
  {
   "cell_type": "code",
   "execution_count": 9,
   "metadata": {},
   "outputs": [
    {
     "data": {
      "text/plain": [
       "5"
      ]
     },
     "execution_count": 9,
     "metadata": {},
     "output_type": "execute_result"
    }
   ],
   "source": [
    "PrefixSet_2(B)"
   ]
  },
  {
   "cell_type": "markdown",
   "metadata": {},
   "source": [
    "### Better solution with less memory usage\n",
    "\n",
    "Using Python dictionary for serching element is a better idea than using list but dictionary requires **key-value** pair and what we need is just a key. In previous code, **True** value was given as a dummy valuable and it occupies additional memory space for no reason. Using **set** instead of dictionary is a better idea since it does not require **key-value** pair and still uses hash table so element look up is constant time on average."
   ]
  },
  {
   "cell_type": "code",
   "execution_count": 9,
   "metadata": {},
   "outputs": [],
   "source": [
    "def PrefixSet_3(N):\n",
    "    s = set()\n",
    "    c = 0\n",
    "    for i in range(len(N)):\n",
    "        if N[i] not in s:\n",
    "            s.add(N[i])\n",
    "            c = i\n",
    "    return c"
   ]
  },
  {
   "cell_type": "markdown",
   "metadata": {},
   "source": [
    "### Test"
   ]
  },
  {
   "cell_type": "code",
   "execution_count": 10,
   "metadata": {},
   "outputs": [],
   "source": [
    "A = [2,2,1,0,1]"
   ]
  },
  {
   "cell_type": "code",
   "execution_count": 11,
   "metadata": {},
   "outputs": [
    {
     "data": {
      "text/plain": [
       "3"
      ]
     },
     "execution_count": 11,
     "metadata": {},
     "output_type": "execute_result"
    }
   ],
   "source": [
    "PrefixSet_3(A)"
   ]
  },
  {
   "cell_type": "code",
   "execution_count": 12,
   "metadata": {},
   "outputs": [],
   "source": [
    "B = [2,2,1,0,1,8]"
   ]
  },
  {
   "cell_type": "code",
   "execution_count": 13,
   "metadata": {},
   "outputs": [
    {
     "data": {
      "text/plain": [
       "5"
      ]
     },
     "execution_count": 13,
     "metadata": {},
     "output_type": "execute_result"
    }
   ],
   "source": [
    "PrefixSet_3(B)"
   ]
  },
  {
   "cell_type": "code",
   "execution_count": null,
   "metadata": {},
   "outputs": [],
   "source": []
  }
 ],
 "metadata": {
  "kernelspec": {
   "display_name": "Python 3",
   "language": "python",
   "name": "python3"
  },
  "language_info": {
   "codemirror_mode": {
    "name": "ipython",
    "version": 3
   },
   "file_extension": ".py",
   "mimetype": "text/x-python",
   "name": "python",
   "nbconvert_exporter": "python",
   "pygments_lexer": "ipython3",
   "version": "3.7.5"
  }
 },
 "nbformat": 4,
 "nbformat_minor": 2
}
