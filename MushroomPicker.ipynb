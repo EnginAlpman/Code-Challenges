{
 "cells": [
  {
   "cell_type": "markdown",
   "metadata": {},
   "source": [
    "# Mushroom Picker\n",
    "\n",
    "You are given a non-empty, zero-indexed array A of n (1 <= n <= 100 000) integers\n",
    "a0, a1, . . . , an−1 (0 <= ai <= 1 000). This array represents number of mushrooms growing on the\n",
    "consecutive spots along a road. You are also given integers k and m (0 <= k, m < n).\n",
    "A mushroom picker is at spot number k on the road and should perform m moves. In\n",
    "one move she moves to an adjacent spot. She collects all the mushrooms growing on spots\n",
    "she visits. The goal is to calculate the maximum number of mushrooms that the mushroom\n",
    "picker can collect in m moves.\n",
    "\n",
    "For example, consider array A such that:\n",
    "\n",
    "A = [2,3,7,5,1,3,9]\n",
    "\n",
    "The mushroom picker starts at spot k = 4 and should perform m = 6 moves. She might\n",
    "move to spots 3, 2, 3, 4, 5, 6 and thereby collect 1 + 5 + 7 + 3 + 9 = 25 mushrooms. This is the\n",
    "maximal number of mushrooms she can collect.\n"
   ]
  },
  {
   "cell_type": "code",
   "execution_count": 4,
   "metadata": {},
   "outputs": [],
   "source": [
    "def prefix_sums(A):\n",
    "    \n",
    "    n = len(A)\n",
    "    p = [0] * (n+1)\n",
    "    \n",
    "    t = 0\n",
    "    \n",
    "    for i in range(n):\n",
    "        p[i+1] = p[i] + A[i]\n",
    "        \n",
    "    \n",
    "    return p"
   ]
  },
  {
   "cell_type": "code",
   "execution_count": 5,
   "metadata": {},
   "outputs": [],
   "source": [
    "def suffix_sums(P, x, y):\n",
    "    return P[y] - P[x-1]"
   ]
  },
  {
   "cell_type": "code",
   "execution_count": 6,
   "metadata": {},
   "outputs": [],
   "source": [
    "def right_border(n, k, m):\n",
    "    r = n - (k+1)\n",
    "    if r > m:\n",
    "        r = m\n",
    "    \n",
    "    return r"
   ]
  },
  {
   "cell_type": "code",
   "execution_count": 7,
   "metadata": {},
   "outputs": [],
   "source": [
    "def left_border(n, k, m):\n",
    "    \n",
    "    if m > k+1:\n",
    "        l = k\n",
    "    \n",
    "    else:\n",
    "        l = m\n",
    "    \n",
    "    return l"
   ]
  },
  {
   "cell_type": "code",
   "execution_count": 8,
   "metadata": {},
   "outputs": [],
   "source": [
    "# time complexity is about N(n+m)\n",
    "\n",
    "def mushrooms(A, k, m):\n",
    "    \n",
    "    n = len(A)\n",
    "    max_sum = 0\n",
    "    r = right_border(n, k, m)\n",
    "    l = left_border(n, k, m)\n",
    "    P = prefix_sums(A)\n",
    "    \n",
    "    max_sum = 0\n",
    "    \n",
    "    for i in range(r+1):\n",
    "        res = m-2*i\n",
    "        if res > l:\n",
    "            res = l\n",
    "        \n",
    "        suffix_s = suffix_sums(P, k-res+1, k+i+1)\n",
    "        \n",
    "        if suffix_s > max_sum:\n",
    "            max_sum = suffix_s \n",
    "        \n",
    "        \n",
    "        \n",
    "    return max_sum\n",
    "        \n",
    "    \n",
    "        \n",
    "        "
   ]
  },
  {
   "cell_type": "markdown",
   "metadata": {},
   "source": [
    "### test"
   ]
  },
  {
   "cell_type": "code",
   "execution_count": 10,
   "metadata": {},
   "outputs": [
    {
     "data": {
      "text/plain": [
       "25"
      ]
     },
     "execution_count": 10,
     "metadata": {},
     "output_type": "execute_result"
    }
   ],
   "source": [
    "mushrooms([2,3,7,5,1,3,9], 4, 6)"
   ]
  },
  {
   "cell_type": "code",
   "execution_count": 12,
   "metadata": {},
   "outputs": [
    {
     "data": {
      "text/plain": [
       "30"
      ]
     },
     "execution_count": 12,
     "metadata": {},
     "output_type": "execute_result"
    }
   ],
   "source": [
    "mushrooms([2,3,7,5,1,3,9], 6, 6)"
   ]
  },
  {
   "cell_type": "markdown",
   "metadata": {},
   "source": [
    "### Clearer explanation will be added"
   ]
  },
  {
   "cell_type": "code",
   "execution_count": null,
   "metadata": {},
   "outputs": [],
   "source": []
  }
 ],
 "metadata": {
  "kernelspec": {
   "display_name": "Python 3",
   "language": "python",
   "name": "python3"
  },
  "language_info": {
   "codemirror_mode": {
    "name": "ipython",
    "version": 3
   },
   "file_extension": ".py",
   "mimetype": "text/x-python",
   "name": "python",
   "nbconvert_exporter": "python",
   "pygments_lexer": "ipython3",
   "version": "3.7.5"
  }
 },
 "nbformat": 4,
 "nbformat_minor": 2
}
