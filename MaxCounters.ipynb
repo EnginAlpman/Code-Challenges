{
 "cells": [
  {
   "cell_type": "markdown",
   "metadata": {},
   "source": [
    "# MaxCounters\n",
    "\n",
    "You are given N counters, initially set to 0, and you have two possible operations on them:\n",
    "\n",
    "increase(X) − counter X is increased by 1,\n",
    "max counter − all counters are set to the maximum value of any counter.\n",
    "A non-empty array A of M integers is given. This array represents consecutive operations:\n",
    "\n",
    "if A[K] = X, such that 1 ≤ X ≤ N, then operation K is increase(X),\n",
    "if A[K] = N + 1 then operation K is max counter.\n",
    "For example, given integer N = 5 and array A such that:\n",
    "\n",
    "    A[0] = 3\n",
    "    A[1] = 4\n",
    "    A[2] = 4\n",
    "    A[3] = 6\n",
    "    A[4] = 1\n",
    "    A[5] = 4\n",
    "    A[6] = 4\n",
    "the values of the counters after each consecutive operation will be:\n",
    "\n",
    "    (0, 0, 1, 0, 0)\n",
    "    (0, 0, 1, 1, 0)\n",
    "    (0, 0, 1, 2, 0)\n",
    "    (2, 2, 2, 2, 2)\n",
    "    (3, 2, 2, 2, 2)\n",
    "    (3, 2, 2, 3, 2)\n",
    "    (3, 2, 2, 4, 2)\n",
    "The goal is to calculate the value of every counter after all operations.\n",
    "\n",
    "Write a function:\n",
    "\n",
    "def solution(N, A)\n",
    "\n",
    "that, given an integer N and a non-empty array A consisting of M integers, returns a sequence of integers representing the values of the counters.\n",
    "\n",
    "Result array should be returned as an array of integers.\n",
    "\n",
    "For example, given:\n",
    "\n",
    "    A[0] = 3\n",
    "    A[1] = 4\n",
    "    A[2] = 4\n",
    "    A[3] = 6\n",
    "    A[4] = 1\n",
    "    A[5] = 4\n",
    "    A[6] = 4\n",
    "the function should return [3, 2, 2, 4, 2], as explained above.\n"
   ]
  },
  {
   "cell_type": "code",
   "execution_count": 11,
   "metadata": {},
   "outputs": [],
   "source": [
    "# complexity is about O(NlogN)\n",
    "def maxCounters(N, A):\n",
    "    \n",
    "    counters = [0] * N # 1 to N counter\n",
    "    biggest = 0\n",
    "    for e in A:\n",
    "        if e == N+1:\n",
    "            counters = [biggest] * N\n",
    "            continue\n",
    "        if e >= 1 and e <= N:\n",
    "            counters[e-1] += 1\n",
    "            if counters[e-1] > biggest:\n",
    "                biggest = counters[e-1]\n",
    "                \n",
    "    return counters"
   ]
  },
  {
   "cell_type": "markdown",
   "metadata": {},
   "source": [
    "### test"
   ]
  },
  {
   "cell_type": "code",
   "execution_count": 12,
   "metadata": {},
   "outputs": [],
   "source": [
    "A = [3,4,4,6,1,4,4]"
   ]
  },
  {
   "cell_type": "code",
   "execution_count": 13,
   "metadata": {},
   "outputs": [
    {
     "data": {
      "text/plain": [
       "[3, 2, 2, 4, 2]"
      ]
     },
     "execution_count": 13,
     "metadata": {},
     "output_type": "execute_result"
    }
   ],
   "source": [
    "maxCounters(5, A)"
   ]
  },
  {
   "cell_type": "markdown",
   "metadata": {},
   "source": [
    "### more efficient algorithm"
   ]
  },
  {
   "cell_type": "code",
   "execution_count": 14,
   "metadata": {},
   "outputs": [],
   "source": [
    "# time complexity is about O(N+M)\n",
    "def maxCounters_2(N, A):\n",
    "\n",
    "    leng = len(A)\n",
    "\n",
    "\n",
    "    d = {}\n",
    "    max_value = 0\n",
    "\n",
    "    for e in A:\n",
    "\n",
    "\n",
    "\n",
    "        if e == N+1:\n",
    "            \n",
    "            if len(d) == 0:\n",
    "                continue\n",
    "                \n",
    "            max_value = max(list(d.values()))\n",
    "            d = {}\n",
    "\n",
    "        else:\n",
    "            if e not in d:\n",
    "                d[e] = max_value + 1\n",
    "            else:\n",
    "                d[e] += 1\n",
    "\n",
    "\n",
    "    l = [0] * N\n",
    "\n",
    "    for i in range(N):\n",
    "        \n",
    "        if i+1 not in d:\n",
    "            l[i] = max_value\n",
    "        else:\n",
    "            l[i] = d[i+1]\n",
    "    \n",
    "    return l\n",
    "    \n",
    "\n",
    "        "
   ]
  },
  {
   "cell_type": "markdown",
   "metadata": {},
   "source": [
    "### test"
   ]
  },
  {
   "cell_type": "code",
   "execution_count": 15,
   "metadata": {},
   "outputs": [],
   "source": [
    "A = [3,4,4,6,1,4,4]"
   ]
  },
  {
   "cell_type": "code",
   "execution_count": 16,
   "metadata": {},
   "outputs": [
    {
     "data": {
      "text/plain": [
       "[3, 2, 2, 4, 2]"
      ]
     },
     "execution_count": 16,
     "metadata": {},
     "output_type": "execute_result"
    }
   ],
   "source": [
    "maxCounters_2(5, A)"
   ]
  }
 ],
 "metadata": {
  "kernelspec": {
   "display_name": "Python 3",
   "language": "python",
   "name": "python3"
  },
  "language_info": {
   "codemirror_mode": {
    "name": "ipython",
    "version": 3
   },
   "file_extension": ".py",
   "mimetype": "text/x-python",
   "name": "python",
   "nbconvert_exporter": "python",
   "pygments_lexer": "ipython3",
   "version": "3.7.5"
  }
 },
 "nbformat": 4,
 "nbformat_minor": 2
}
