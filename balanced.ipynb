{
 "cells": [
  {
   "cell_type": "markdown",
   "metadata": {},
   "source": [
    "A sting is called **balanced** when every letter occuring in the string, appears both in upper- and lowercase. For example, the string \"CATattac\" is balanced (\"a\", \"c\" and \"t\" occur both cases), but \"Madam\" is not (\"d\" and \"a\" appear only in lowercase). Note that the number of occurences does not matter.\n",
    "\n",
    "Write a function that, given a sting S of length N, returns the length of the shortest balanced fragment of S. If S does not contain any balanced fragment, the function should return -1.\n",
    "\n",
    "Examples:\n",
    "\n",
    "1. Given S = \"azABaabza\", the function should return 5. The shortest balanced fragment of S is \"ABaab\"\n",
    "\n",
    "2. Given S = \"TacoCat\", the function should return -1. There is no balanced fragment.\n",
    "\n",
    "3. Given S = \"AcZCbaBz\", the function should return 8. The shortest balanced fragment is the whole string."
   ]
  },
  {
   "cell_type": "code",
   "execution_count": 1,
   "metadata": {},
   "outputs": [],
   "source": [
    "#Controls if given string S is balanced or not\n",
    "def control_balanced(S):\n",
    "    d = {}\n",
    "    d2 = {}\n",
    "    S1 = list(S)\n",
    "    for i in range(len(S1)):\n",
    "        lower = S1[i].lower()\n",
    "        if lower not in d:\n",
    "            d[lower] = False\n",
    "            d2[lower] = S1[i]\n",
    "        if lower in d:\n",
    "            if S1[i] != d2[lower]:\n",
    "                d[lower] = True\n",
    "    \n",
    "    for e in d.values():\n",
    "        if not e:\n",
    "            return False\n",
    "    return True\n",
    "    "
   ]
  },
  {
   "cell_type": "code",
   "execution_count": 57,
   "metadata": {},
   "outputs": [],
   "source": [
    "# Generator that yields substring from S\n",
    "def create_sub(S, n):\n",
    "    for i in range(len(S)-n+1):\n",
    "        yield S[i:i+n]\n",
    "        "
   ]
  },
  {
   "cell_type": "code",
   "execution_count": 65,
   "metadata": {},
   "outputs": [],
   "source": [
    "# Final function that checks all the substring of the given string S, and returns minimum length\n",
    "def balanced(S):\n",
    "    for e in range(2,len(S)+1):\n",
    "        for i in create_sub(S, e):\n",
    "            s2 = i\n",
    "            if control_balanced(s2):\n",
    "                return e\n",
    "    return -1"
   ]
  },
  {
   "cell_type": "markdown",
   "metadata": {},
   "source": [
    "### Test"
   ]
  },
  {
   "cell_type": "code",
   "execution_count": 62,
   "metadata": {},
   "outputs": [
    {
     "data": {
      "text/plain": [
       "5"
      ]
     },
     "execution_count": 62,
     "metadata": {},
     "output_type": "execute_result"
    }
   ],
   "source": [
    "s = \"azABaabza\"\n",
    "balanced(s)"
   ]
  },
  {
   "cell_type": "code",
   "execution_count": 63,
   "metadata": {},
   "outputs": [
    {
     "data": {
      "text/plain": [
       "-1"
      ]
     },
     "execution_count": 63,
     "metadata": {},
     "output_type": "execute_result"
    }
   ],
   "source": [
    "s= \"TacoCat\"\n",
    "balanced(s)"
   ]
  },
  {
   "cell_type": "code",
   "execution_count": 64,
   "metadata": {},
   "outputs": [
    {
     "data": {
      "text/plain": [
       "8"
      ]
     },
     "execution_count": 64,
     "metadata": {},
     "output_type": "execute_result"
    }
   ],
   "source": [
    "s= \"AcZCbaBz\"\n",
    "balanced(s)"
   ]
  },
  {
   "cell_type": "code",
   "execution_count": null,
   "metadata": {},
   "outputs": [],
   "source": []
  }
 ],
 "metadata": {
  "kernelspec": {
   "display_name": "Python 3",
   "language": "python",
   "name": "python3"
  },
  "language_info": {
   "codemirror_mode": {
    "name": "ipython",
    "version": 3
   },
   "file_extension": ".py",
   "mimetype": "text/x-python",
   "name": "python",
   "nbconvert_exporter": "python",
   "pygments_lexer": "ipython3",
   "version": "3.7.5"
  }
 },
 "nbformat": 4,
 "nbformat_minor": 2
}
