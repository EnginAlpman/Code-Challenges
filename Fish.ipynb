{
 "cells": [
  {
   "cell_type": "markdown",
   "metadata": {},
   "source": [
    "# Fish\n",
    "\n",
    "You are given two non-empty arrays A and B consisting of N integers. Arrays A and B represent N voracious fish in a river, ordered downstream along the flow of the river.\n",
    "\n",
    "The fish are numbered from 0 to N − 1. If P and Q are two fish and P < Q, then fish P is initially upstream of fish Q. Initially, each fish has a unique position.\n",
    "\n",
    "Fish number P is represented by A[P] and B[P]. Array A contains the sizes of the fish. All its elements are unique. Array B contains the directions of the fish. It contains only 0s and/or 1s, where:\n",
    "\n",
    "0 represents a fish flowing upstream,\n",
    "1 represents a fish flowing downstream.\n",
    "If two fish move in opposite directions and there are no other (living) fish between them, they will eventually meet each other. Then only one fish can stay alive − the larger fish eats the smaller one. More precisely, we say that two fish P and Q meet each other when P < Q, B[P] = 1 and B[Q] = 0, and there are no living fish between them. After they meet:\n",
    "\n",
    "If A[P] > A[Q] then P eats Q, and P will still be flowing downstream,\n",
    "If A[Q] > A[P] then Q eats P, and Q will still be flowing upstream.\n",
    "We assume that all the fish are flowing at the same speed. That is, fish moving in the same direction never meet. The goal is to calculate the number of fish that will stay alive.\n",
    "\n",
    "For example, consider arrays A and B such that:\n",
    "\n",
    "  A[0] = 4    \n",
    "  A[1] = 3    \n",
    "  A[2] = 2    \n",
    "  A[3] = 1    \n",
    "  A[4] = 5    \n",
    "  \n",
    "  \n",
    "  \n",
    "  B[0] = 0\n",
    "  B[1] = 1\n",
    "  B[2] = 0\n",
    "  B[3] = 0\n",
    "  B[4] = 0\n",
    "  \n",
    "  \n",
    "Initially all the fish are alive and all except fish number 1 are moving upstream. Fish number 1 meets fish number 2 and eats it, then it meets fish number 3 and eats it too. Finally, it meets fish number 4 and is eaten by it. The remaining two fish, number 0 and 4, never meet and therefore stay alive.\n",
    "\n",
    "Write a function:\n",
    "\n",
    "def solution(A, B)\n",
    "\n",
    "that, given two non-empty arrays A and B consisting of N integers, returns the number of fish that will stay alive.\n",
    "\n",
    "For example, given the arrays shown above, the function should return 2, as explained above."
   ]
  },
  {
   "cell_type": "code",
   "execution_count": 2,
   "metadata": {},
   "outputs": [],
   "source": [
    "# the time complexity is about O(N)\n",
    "def fish(A, B):\n",
    "    \n",
    "    n = len(A)\n",
    "    \n",
    "    if n == 1:\n",
    "        return 1\n",
    "    \n",
    "    idx = -1\n",
    "    \n",
    "    for i in range(n):\n",
    "        if B[i] == 1:\n",
    "            idx = i\n",
    "            break\n",
    "        \n",
    "    if idx == -1:\n",
    "        return n\n",
    "    \n",
    "    c = [A[idx]]\n",
    "    count = 0\n",
    "    \n",
    "    if idx == n-1:\n",
    "        return n\n",
    "    \n",
    "    \n",
    "    for i in range(idx+1,n):\n",
    "        \n",
    "        a = A[i]\n",
    "        b = B[i]\n",
    "        \n",
    "        if b == 1:\n",
    "            c.append(a)\n",
    "            continue\n",
    "            \n",
    "        else:\n",
    "            \n",
    "            if len(c) == 0:\n",
    "                continue\n",
    "            \n",
    "            if c[-1] > a:\n",
    "\n",
    "                count += 1\n",
    "            else:\n",
    "                count += 1\n",
    "                del c[-1]\n",
    "                while len(c) != 0:\n",
    "                    if c[-1] < a:\n",
    "                        count += 1\n",
    "                        del c[-1]\n",
    "                    else:\n",
    "                        count +=1\n",
    "                        break\n",
    "                \n",
    "    return (n - count)\n",
    "    \n",
    "    "
   ]
  },
  {
   "cell_type": "markdown",
   "metadata": {},
   "source": [
    "### test"
   ]
  },
  {
   "cell_type": "code",
   "execution_count": 9,
   "metadata": {},
   "outputs": [],
   "source": [
    "A = [4,3,2,1,5]\n",
    "B = [0,1,0,0,0]"
   ]
  },
  {
   "cell_type": "code",
   "execution_count": 10,
   "metadata": {},
   "outputs": [
    {
     "data": {
      "text/plain": [
       "2"
      ]
     },
     "execution_count": 10,
     "metadata": {},
     "output_type": "execute_result"
    }
   ],
   "source": [
    "fish(A, B)"
   ]
  },
  {
   "cell_type": "code",
   "execution_count": 11,
   "metadata": {},
   "outputs": [],
   "source": [
    "A = [4,3,2,1,5]\n",
    "B = [0,1,0,0,1]"
   ]
  },
  {
   "cell_type": "code",
   "execution_count": 12,
   "metadata": {},
   "outputs": [
    {
     "data": {
      "text/plain": [
       "3"
      ]
     },
     "execution_count": 12,
     "metadata": {},
     "output_type": "execute_result"
    }
   ],
   "source": [
    "fish(A,B)"
   ]
  },
  {
   "cell_type": "markdown",
   "metadata": {},
   "source": [
    "More elegant solution will be added"
   ]
  },
  {
   "cell_type": "code",
   "execution_count": null,
   "metadata": {},
   "outputs": [],
   "source": []
  }
 ],
 "metadata": {
  "kernelspec": {
   "display_name": "Python 3",
   "language": "python",
   "name": "python3"
  },
  "language_info": {
   "codemirror_mode": {
    "name": "ipython",
    "version": 3
   },
   "file_extension": ".py",
   "mimetype": "text/x-python",
   "name": "python",
   "nbconvert_exporter": "python",
   "pygments_lexer": "ipython3",
   "version": "3.7.5"
  }
 },
 "nbformat": 4,
 "nbformat_minor": 2
}
