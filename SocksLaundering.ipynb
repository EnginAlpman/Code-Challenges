{
 "cells": [
  {
   "cell_type": "code",
   "execution_count": 1,
   "metadata": {},
   "outputs": [],
   "source": [
    "from IPython.display import Image\n",
    "from IPython.core.display import HTML "
   ]
  },
  {
   "cell_type": "markdown",
   "metadata": {},
   "source": [
    "# SocksLaundering\n",
    "\n",
    "Bob is about to go on a trip. But first he needs to take care of his supply of socks. Each sock has its own color. Bob wants to take as many pairs of clean socks as possible (both socks in the pair should be of the same color).\n",
    "\n",
    "Socks are divided into two drawers: clean and dirty socks. Bob has time for only one laundry and his washing machine can clean at most K socks. He wants to pick socks for laundering in such a way that after washing he will have a maximal number of clean, same-colored pairs of socks. It is possible that some socks cannot be paired with any other sock, because Bob may have lost some socks over the years.\n",
    "\n",
    "Bob has exactly N clean and M dirty socks, which are described in arrays C and D, respectively. The colors of the socks are represented as integers (equal numbers representing identical colors).\n",
    "\n",
    "For example, given four clean socks and five dirty socks:\n",
    "\n",
    "![Image](https://codility-frontend-prod.s3.amazonaws.com/media/task_static/socks_laundering/static/images/auto/bb5550b86d03b06e22142e936bddd02c.png)\n",
    "\n",
    "\n",
    "\n",
    "If Bob's washing machine can clean at most K = 2 socks, then he can take a maximum of three pairs of clean socks. He can wash one red sock and one green sock, numbered 1 and 2 respectively. Then he will have two pairs of red socks and one pair of green socks.\n",
    "\n",
    "Write a function:\n",
    "\n",
    "def solution(K, C, D)\n",
    "\n",
    "that, given an integer K (the number of socks that the washing machine can clean), two arrays C and D (containing the color representations of N clean and M dirty socks respectively), returns the maximum number of pairs of socks that Bob can take on the trip.\n",
    "\n",
    "For example, given K = 2, C = [1, 2, 1, 1] and D = [1, 4, 3, 2, 4], the function should return 3, as explained above.\n",
    "\n"
   ]
  },
  {
   "cell_type": "code",
   "execution_count": 2,
   "metadata": {},
   "outputs": [],
   "source": [
    "def socksLaundering(k, C, D):\n",
    "    \n",
    "    d_c = {}\n",
    "    d_d = {}\n",
    "    \n",
    "    count = 0\n",
    "    \n",
    "    for e in C:\n",
    "        if e not in d_c or d_c[e] == 0:\n",
    "            d_c[e] = 1\n",
    "        else:\n",
    "            count += 1\n",
    "            d_c[e] = 0\n",
    "            \n",
    "    for e in D:\n",
    "        if e not in d_d:\n",
    "            d_d[e] = 1\n",
    "        else:\n",
    "            d_d[e] += 1\n",
    "            \n",
    "        \n",
    "    control = k\n",
    "    \n",
    "    \n",
    "    \n",
    "    for key,value in d_d.items():\n",
    "        \n",
    "        if key in d_c:\n",
    "            \n",
    "            \n",
    "            if control == 0:\n",
    "                return count\n",
    "            \n",
    "            \n",
    "            \n",
    "                \n",
    "            \n",
    "            dummy = min(value, d_c[key])\n",
    "            d_d[key] -= dummy\n",
    "            \n",
    "            if dummy >= control:\n",
    "                count += control\n",
    "                return count\n",
    "            \n",
    "            count += dummy\n",
    "            control -= dummy\n",
    "            \n",
    "    \n",
    "\n",
    "    \n",
    "    if control > 1:\n",
    "        for v in d_d.values():\n",
    "            dummy = min(v // 2 , control // 2)\n",
    "            \n",
    "            control -= 2* dummy\n",
    "            count += dummy\n",
    "            \n",
    "            if control == 1 or control == 0:\n",
    "                return count\n",
    "            \n",
    "\n",
    "            \n",
    "        \n",
    "        \n",
    "    return count"
   ]
  },
  {
   "cell_type": "markdown",
   "metadata": {},
   "source": [
    "### test"
   ]
  },
  {
   "cell_type": "code",
   "execution_count": 3,
   "metadata": {},
   "outputs": [],
   "source": [
    "C= [1,2,1,1]\n",
    "D= [1,4,3,2,4]"
   ]
  },
  {
   "cell_type": "code",
   "execution_count": 4,
   "metadata": {},
   "outputs": [
    {
     "data": {
      "text/plain": [
       "3"
      ]
     },
     "execution_count": 4,
     "metadata": {},
     "output_type": "execute_result"
    }
   ],
   "source": [
    "socksLaundering(2,C,D)"
   ]
  },
  {
   "cell_type": "code",
   "execution_count": 5,
   "metadata": {},
   "outputs": [],
   "source": [
    "C= [5]\n",
    "D= [5]"
   ]
  },
  {
   "cell_type": "code",
   "execution_count": 6,
   "metadata": {},
   "outputs": [
    {
     "data": {
      "text/plain": [
       "1"
      ]
     },
     "execution_count": 6,
     "metadata": {},
     "output_type": "execute_result"
    }
   ],
   "source": [
    "socksLaundering(1,C,D)"
   ]
  },
  {
   "cell_type": "code",
   "execution_count": 7,
   "metadata": {},
   "outputs": [
    {
     "data": {
      "text/plain": [
       "2"
      ]
     },
     "execution_count": 7,
     "metadata": {},
     "output_type": "execute_result"
    }
   ],
   "source": [
    "socksLaundering(5, [1, 1, 2], [2, 2, 3])"
   ]
  },
  {
   "cell_type": "code",
   "execution_count": 8,
   "metadata": {},
   "outputs": [
    {
     "data": {
      "text/plain": [
       "1"
      ]
     },
     "execution_count": 8,
     "metadata": {},
     "output_type": "execute_result"
    }
   ],
   "source": [
    "socksLaundering(3, [1, 2], [8, 8, 8, 8, 9])"
   ]
  },
  {
   "cell_type": "code",
   "execution_count": 200,
   "metadata": {},
   "outputs": [
    {
     "data": {
      "text/plain": [
       "3"
      ]
     },
     "execution_count": 200,
     "metadata": {},
     "output_type": "execute_result"
    }
   ],
   "source": [
    "solution(5, [2, 3, 4], [2, 2, 2, 2, 2])"
   ]
  },
  {
   "cell_type": "markdown",
   "metadata": {},
   "source": [
    "### more elegant solution will be added"
   ]
  },
  {
   "cell_type": "code",
   "execution_count": null,
   "metadata": {},
   "outputs": [],
   "source": []
  }
 ],
 "metadata": {
  "kernelspec": {
   "display_name": "Python 3",
   "language": "python",
   "name": "python3"
  },
  "language_info": {
   "codemirror_mode": {
    "name": "ipython",
    "version": 3
   },
   "file_extension": ".py",
   "mimetype": "text/x-python",
   "name": "python",
   "nbconvert_exporter": "python",
   "pygments_lexer": "ipython3",
   "version": "3.7.5"
  }
 },
 "nbformat": 4,
 "nbformat_minor": 2
}
