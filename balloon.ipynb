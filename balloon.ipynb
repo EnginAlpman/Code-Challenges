{
 "cells": [
  {
   "cell_type": "markdown",
   "metadata": {},
   "source": [
    "A string S consist of uppercase English letters is given. In one move we can delete seven letters from S, forming the word **\"BALLOON\"\"** and leave a shorter word in S. If the remaining letters in the shortened S are sufficient to allow another instance of the word \"BALLOON\" to be removed, next move can be done. What is the maximum number of such moves that we can appy S and what is the remaining string after each step ? (print strings and return the maximum deletion amount)\n",
    "\n",
    "### Examples:\n",
    "\n",
    "1. S = \"BAONXXOLL\" -> prints \"XX\", returns 1\n",
    "\n",
    "2. S = \"BAOOLLNNOLOLGBAX\" -> prints \"BOLLNOGAX\" or \"NOLOLGBAX\" (deletion order is not matter) -> prints \"GX\", returns 2\n",
    "\n",
    "3. S = \"QAWABAWONLY\" -> returns 0"
   ]
  },
  {
   "cell_type": "code",
   "execution_count": 4,
   "metadata": {},
   "outputs": [],
   "source": [
    "def remove_from_str(s,i): # remove (i)th element from the string \"s\"\n",
    "    \n",
    "    if (len(s) == 1 and i != 0) or i >= len(s):\n",
    "        print(\"index out of range\")\n",
    "    elif len(s)==0 and i == 0:\n",
    "        return []\n",
    "    elif len(s) == i+1:\n",
    "        return s[:-1]\n",
    "    else:\n",
    "        return s[:i] + s[i+1:]\n",
    "    "
   ]
  },
  {
   "cell_type": "code",
   "execution_count": 47,
   "metadata": {},
   "outputs": [],
   "source": [
    "def count_bal(s):\n",
    "    count = 0\n",
    "    while True:\n",
    "        l = [\"B\",\"A\",\"L\",\"L\",\"O\",\"O\",\"N\"]\n",
    "        i = 0\n",
    "        while i < len(s):\n",
    "            \n",
    "            if s[i] in l:\n",
    "                del l[l.index(s[i])]\n",
    "                s = remove_from_str(s, i)\n",
    "                i = 0\n",
    "                \n",
    "            else:\n",
    "                i += 1\n",
    "        if len(l) == 0:\n",
    "            print(s)\n",
    "            count += 1\n",
    "                     \n",
    "        else:\n",
    "            \n",
    "            return count\n"
   ]
  },
  {
   "cell_type": "markdown",
   "metadata": {},
   "source": [
    "### Test"
   ]
  },
  {
   "cell_type": "code",
   "execution_count": 59,
   "metadata": {},
   "outputs": [
    {
     "name": "stdout",
     "output_type": "stream",
     "text": [
      "XX\n"
     ]
    },
    {
     "data": {
      "text/plain": [
       "1"
      ]
     },
     "execution_count": 59,
     "metadata": {},
     "output_type": "execute_result"
    }
   ],
   "source": [
    "count_bal(\"BAONXXOLL\")"
   ]
  },
  {
   "cell_type": "code",
   "execution_count": 58,
   "metadata": {},
   "outputs": [
    {
     "name": "stdout",
     "output_type": "stream",
     "text": [
      "NOLOLGBAX\n",
      "GX\n"
     ]
    },
    {
     "data": {
      "text/plain": [
       "2"
      ]
     },
     "execution_count": 58,
     "metadata": {},
     "output_type": "execute_result"
    }
   ],
   "source": [
    "count_bal(\"BAOOLLNNOLOLGBAX\")"
   ]
  },
  {
   "cell_type": "code",
   "execution_count": 57,
   "metadata": {},
   "outputs": [
    {
     "data": {
      "text/plain": [
       "0"
      ]
     },
     "execution_count": 57,
     "metadata": {},
     "output_type": "execute_result"
    }
   ],
   "source": [
    "count_bal(\"QAWABAWONL\")"
   ]
  },
  {
   "cell_type": "markdown",
   "metadata": {},
   "source": [
    "### More ellegant solution"
   ]
  },
  {
   "cell_type": "code",
   "execution_count": 51,
   "metadata": {},
   "outputs": [],
   "source": [
    "def remove_from_std_sequential(s, l):\n",
    "    l2 = [True] * len(s)\n",
    "    l3 = list(s)\n",
    "    for i in l:\n",
    "        l2[i] = False\n",
    "    \n",
    "    return  [l3[i] for i in range(len(l2)) if l2[i]]\n",
    "    \n",
    "    "
   ]
  },
  {
   "cell_type": "code",
   "execution_count": 52,
   "metadata": {},
   "outputs": [],
   "source": [
    "def count_bal_2(s):\n",
    "    count = 0\n",
    "    while True:\n",
    "        l = [\"B\",\"A\",\"L\",\"L\",\"O\",\"O\",\"N\"]\n",
    "        l2 = []\n",
    "        for  i in range(len(s)):\n",
    "            \n",
    "            if s[i] in l:\n",
    "                del l[l.index(s[i])]\n",
    "                l2.append(i)\n",
    "                \n",
    "        if len(l) == 0:\n",
    "            count += 1\n",
    "            s = remove_from_std_sequential(s, l2)\n",
    "            print(\"\".join(s))\n",
    "            \n",
    "                     \n",
    "        else:\n",
    "            return count\n"
   ]
  },
  {
   "cell_type": "code",
   "execution_count": 60,
   "metadata": {},
   "outputs": [
    {
     "name": "stdout",
     "output_type": "stream",
     "text": [
      "XX\n"
     ]
    },
    {
     "data": {
      "text/plain": [
       "1"
      ]
     },
     "execution_count": 60,
     "metadata": {},
     "output_type": "execute_result"
    }
   ],
   "source": [
    "count_bal_2(\"BAONXXOLL\")"
   ]
  },
  {
   "cell_type": "code",
   "execution_count": 32,
   "metadata": {},
   "outputs": [
    {
     "name": "stdout",
     "output_type": "stream",
     "text": [
      "NOLOLGBAX\n",
      "GX\n"
     ]
    },
    {
     "data": {
      "text/plain": [
       "2"
      ]
     },
     "execution_count": 32,
     "metadata": {},
     "output_type": "execute_result"
    }
   ],
   "source": [
    "count_bal_2(\"BAOOLLNNOLOLGBAX\")"
   ]
  },
  {
   "cell_type": "code",
   "execution_count": 61,
   "metadata": {},
   "outputs": [
    {
     "data": {
      "text/plain": [
       "0"
      ]
     },
     "execution_count": 61,
     "metadata": {},
     "output_type": "execute_result"
    }
   ],
   "source": [
    "count_bal_2(\"QAWABAWONL\")"
   ]
  }
 ],
 "metadata": {
  "kernelspec": {
   "display_name": "Python 3",
   "language": "python",
   "name": "python3"
  },
  "language_info": {
   "codemirror_mode": {
    "name": "ipython",
    "version": 3
   },
   "file_extension": ".py",
   "mimetype": "text/x-python",
   "name": "python",
   "nbconvert_exporter": "python",
   "pygments_lexer": "ipython3",
   "version": "3.7.5"
  }
 },
 "nbformat": 4,
 "nbformat_minor": 2
}
