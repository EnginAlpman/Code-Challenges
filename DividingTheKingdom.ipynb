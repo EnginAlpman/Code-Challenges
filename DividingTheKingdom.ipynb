{
 "cells": [
  {
   "cell_type": "code",
   "execution_count": 2,
   "metadata": {},
   "outputs": [],
   "source": [
    "from IPython.display import Image\n",
    "from IPython.core.display import HTML "
   ]
  },
  {
   "cell_type": "markdown",
   "metadata": {},
   "source": [
    "# DividingTheKingdom\n",
    "\n",
    "An old king wants to divide his kingdom between his two sons. He is well known for his justness and wisdom, and he plans to make a good use of both of these attributes while dividing his kingdom.\n",
    "\n",
    "The kingdom is administratively split into square boroughs that form an N × M grid. Some of the boroughs contain gold mines. The king knows that his sons do not care as much about the land as they do about gold, so he wants both parts of the kingdom to contain exactly the same number of mines. Moreover, he wants to split the kingdom with either a horizontal or a vertical line that goes along the borders of the boroughs (splitting no borough into two parts).\n",
    "\n",
    "The goal is to count how many ways he can split the kingdom.\n",
    "\n",
    "Write a function:\n",
    "\n",
    "def solution(N, M, X, Y)\n",
    "\n",
    "that, given two arrays of K integers X and Y, denoting coordinates of boroughs containing the gold mines, will compute the number of fair divisions of the kingdom.\n",
    "\n",
    "For example, given N = 5, M = 5, X = [0, 4, 2, 0] and Y = [0, 0, 1, 4], the function should return 3. The king can divide his land in three different ways shown on the picture below.\n",
    "\n",
    "\n",
    "![Image of goldmine](https://codility-frontend-prod.s3.amazonaws.com/media/task_static/dividing_the_kingdom/74a1c3d4a16954db7dcc5741d5f6afff/static/images/Goldmines.png)"
   ]
  },
  {
   "cell_type": "code",
   "execution_count": 5,
   "metadata": {},
   "outputs": [],
   "source": [
    "# time complexity is about N(O^2)\n",
    "def DividingTheKingdom(N,M,X,Y):\n",
    "    gold_num = len(X) / 2\n",
    "    s = 0\n",
    "    \n",
    "    for x in range(N):\n",
    "        c = 0\n",
    "        for k in X:\n",
    "            if k<=x:\n",
    "                c +=1\n",
    "        if c == gold_num:\n",
    "            s += 1\n",
    "            \n",
    "    for y in range(M):\n",
    "        c = 0\n",
    "        for k in Y:\n",
    "            if k<=y:\n",
    "                c +=1\n",
    "        if c == gold_num:\n",
    "            s += 1\n",
    "            \n",
    "        \n",
    "\n",
    "    \n",
    "        \n",
    "        \n",
    "    \n",
    "    \n",
    "    return s\n",
    "\n"
   ]
  },
  {
   "cell_type": "markdown",
   "metadata": {},
   "source": [
    "### test"
   ]
  },
  {
   "cell_type": "code",
   "execution_count": 6,
   "metadata": {},
   "outputs": [
    {
     "data": {
      "text/plain": [
       "3"
      ]
     },
     "execution_count": 6,
     "metadata": {},
     "output_type": "execute_result"
    }
   ],
   "source": [
    "DividingTheKingdom(5, 5, [0, 4, 2, 0], [0, 0, 1, 4])"
   ]
  },
  {
   "cell_type": "code",
   "execution_count": null,
   "metadata": {},
   "outputs": [],
   "source": []
  },
  {
   "cell_type": "markdown",
   "metadata": {},
   "source": [
    "### more efficient algorithm will be added"
   ]
  },
  {
   "cell_type": "code",
   "execution_count": null,
   "metadata": {},
   "outputs": [],
   "source": []
  }
 ],
 "metadata": {
  "kernelspec": {
   "display_name": "Python 3",
   "language": "python",
   "name": "python3"
  },
  "language_info": {
   "codemirror_mode": {
    "name": "ipython",
    "version": 3
   },
   "file_extension": ".py",
   "mimetype": "text/x-python",
   "name": "python",
   "nbconvert_exporter": "python",
   "pygments_lexer": "ipython3",
   "version": "3.7.5"
  }
 },
 "nbformat": 4,
 "nbformat_minor": 2
}
