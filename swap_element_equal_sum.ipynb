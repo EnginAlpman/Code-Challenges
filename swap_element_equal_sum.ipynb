{
 "cells": [
  {
   "cell_type": "markdown",
   "metadata": {},
   "source": [
    "# Swap element for equal sum\n",
    "\n",
    "You are given an integer m and two non-empty, zero-indexed arrays A and B of n integers, a0, a1, . . . , an−1 and b0, b1, . . . , bn−1 respectively (0 <= ai, bi <= m).The goal is to check whether there is a swap operation which can be performed on these arrays in such a way that the sum of elements in array A equals the sum of elements in array B after the swap. return swap pair (ai,bi). By swap operation we mean picking one element from array A and one element from array B and exchanging them\n"
   ]
  },
  {
   "cell_type": "code",
   "execution_count": 1,
   "metadata": {},
   "outputs": [],
   "source": [
    "def swap(a, b, m):\n",
    "    l = []\n",
    "    sum_a = sum(a)\n",
    "    sum_b = sum(b)\n",
    "    count_b = [0] * (m + 1)\n",
    "    \n",
    "    for e in b:\n",
    "        count_b[e] += 1\n",
    "    \n",
    "    diff = sum_b - sum_a\n",
    "    \n",
    "    if diff % 2 == 1:\n",
    "        return []\n",
    "    \n",
    "    for e in a:\n",
    "        if (diff/2 + e) in b:\n",
    "            l.append((e, int(diff/2 + e)))\n",
    "            \n",
    "    return l"
   ]
  },
  {
   "cell_type": "markdown",
   "metadata": {},
   "source": [
    "In the code above we are checking if diff/2 + e is in the list b at every iteration, it increases our time complexity, the better approach would be transforming b into set since searching in set has lower time complexity in general. Another approach is to create count list for b (which has time complexity of O(N) where N is the number of elements in b), and then do array lookup in every iteration which has a constant time complexity(which is slightly higher than that because python lists are not arrays)"
   ]
  },
  {
   "cell_type": "code",
   "execution_count": 2,
   "metadata": {},
   "outputs": [],
   "source": [
    "def swap_2(a,b,m):\n",
    "    l = []\n",
    "    sum_a = sum(a)\n",
    "    sum_b = sum(b)\n",
    "    count_b = [0] * (m + 1)\n",
    "    \n",
    "    for e in b:\n",
    "        count_b[e] += 1\n",
    "    \n",
    "    diff = sum_b - sum_a\n",
    "    \n",
    "    \n",
    "    if diff % 2 == 1:\n",
    "        return []\n",
    "    \n",
    "    \n",
    "    for e in a:\n",
    "        \n",
    "        if count_b[int(diff/2 + e)] > 0: # diff/2 is guaranteed to be integer since we control diff % 2 above\n",
    "                l.append((e, int(diff/2 + e)))\n",
    "        \n",
    "            \n",
    "    return l\n",
    "        \n",
    "        "
   ]
  },
  {
   "cell_type": "markdown",
   "metadata": {},
   "source": [
    "### test"
   ]
  },
  {
   "cell_type": "code",
   "execution_count": 3,
   "metadata": {},
   "outputs": [],
   "source": [
    "a = [1,2,1,4]\n",
    "b = [2,0,5,4]"
   ]
  },
  {
   "cell_type": "code",
   "execution_count": 4,
   "metadata": {},
   "outputs": [
    {
     "data": {
      "text/plain": [
       "[]"
      ]
     },
     "execution_count": 4,
     "metadata": {},
     "output_type": "execute_result"
    }
   ],
   "source": [
    "swap(a,b,5)"
   ]
  },
  {
   "cell_type": "code",
   "execution_count": 8,
   "metadata": {},
   "outputs": [
    {
     "data": {
      "text/plain": [
       "[(1, 2)]"
      ]
     },
     "execution_count": 8,
     "metadata": {},
     "output_type": "execute_result"
    }
   ],
   "source": [
    "swap_2(a,b,5)"
   ]
  },
  {
   "cell_type": "code",
   "execution_count": 5,
   "metadata": {},
   "outputs": [],
   "source": [
    "a = [1,2,3]\n",
    "b = [5,2,1]"
   ]
  },
  {
   "cell_type": "code",
   "execution_count": 6,
   "metadata": {},
   "outputs": [
    {
     "data": {
      "text/plain": [
       "[(1, 2)]"
      ]
     },
     "execution_count": 6,
     "metadata": {},
     "output_type": "execute_result"
    }
   ],
   "source": [
    "swap(a,b,5)"
   ]
  },
  {
   "cell_type": "code",
   "execution_count": 7,
   "metadata": {},
   "outputs": [
    {
     "data": {
      "text/plain": [
       "[(1, 2)]"
      ]
     },
     "execution_count": 7,
     "metadata": {},
     "output_type": "execute_result"
    }
   ],
   "source": [
    "swap_2(a,b,5)"
   ]
  },
  {
   "cell_type": "code",
   "execution_count": null,
   "metadata": {},
   "outputs": [],
   "source": []
  }
 ],
 "metadata": {
  "kernelspec": {
   "display_name": "Python 3",
   "language": "python",
   "name": "python3"
  },
  "language_info": {
   "codemirror_mode": {
    "name": "ipython",
    "version": 3
   },
   "file_extension": ".py",
   "mimetype": "text/x-python",
   "name": "python",
   "nbconvert_exporter": "python",
   "pygments_lexer": "ipython3",
   "version": "3.7.5"
  }
 },
 "nbformat": 4,
 "nbformat_minor": 2
}
