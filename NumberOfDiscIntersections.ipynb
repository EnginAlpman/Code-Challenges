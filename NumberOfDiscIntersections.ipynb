{
 "cells": [
  {
   "cell_type": "code",
   "execution_count": 1,
   "metadata": {},
   "outputs": [],
   "source": [
    "from IPython.display import Image\n",
    "from IPython.core.display import HTML "
   ]
  },
  {
   "cell_type": "markdown",
   "metadata": {},
   "source": [
    "# NumberOfDiscIntersections\n",
    "\n",
    "We draw N discs on a plane. The discs are numbered from 0 to N − 1. An array A of N non-negative integers, specifying the radiuses of the discs, is given. The J-th disc is drawn with its center at (J, 0) and radius A[J].\n",
    "\n",
    "We say that the J-th disc and K-th disc intersect if J ≠ K and the J-th and K-th discs have at least one common point (assuming that the discs contain their borders).\n",
    "\n",
    "The figure below shows discs drawn for N = 6 and A as follows:\n",
    "\n",
    "  A[0] = 1\n",
    "  A[1] = 5\n",
    "  A[2] = 2\n",
    "  A[3] = 1\n",
    "  A[4] = 4\n",
    "  A[5] = 0\n",
    "  \n",
    "  \n",
    "![Image of the question](https://codility-frontend-prod.s3.amazonaws.com/media/task_static/number_of_disc_intersections/static/images/auto/0eed8918b13a735f4e396c9a87182a38.png)\n",
    "\n",
    "There are eleven (unordered) pairs of discs that intersect, namely:\n",
    "\n",
    "discs 1 and 4 intersect, and both intersect with all the other discs;\n",
    "disc 2 also intersects with discs 0 and 3.\n",
    "Write a function:\n",
    "\n",
    "def solution(A)\n",
    "\n",
    "that, given an array A describing N discs as explained above, returns the number of (unordered) pairs of intersecting discs. The function should return −1 if the number of intersecting pairs exceeds 10,000,000.\n",
    "\n",
    "Given array A shown above, the function should return 11, as explained above."
   ]
  },
  {
   "cell_type": "code",
   "execution_count": 2,
   "metadata": {},
   "outputs": [],
   "source": [
    "def checkIntersect(a, b):\n",
    "    if (a[0] <= b[1]) and (b[0] <= a[1]):\n",
    "        return 1\n",
    "    \n",
    "    return 0"
   ]
  },
  {
   "cell_type": "code",
   "execution_count": 3,
   "metadata": {},
   "outputs": [],
   "source": [
    "# time complexity is about O(N^2)\n",
    "def numberOfDiscIntersections(A):\n",
    "    n = len(A)\n",
    "    intersection = [0] * n\n",
    "    \n",
    "    for i in range(n):\n",
    "        r = A[i]\n",
    "        intersection[i] = (i-r,i+r)\n",
    "        \n",
    "    res = 0\n",
    "    for i in range(len(intersection)-1):\n",
    "        for j in range(i+1,len(intersection)):\n",
    "                if checkIntersect(intersection[i], intersection[j]):\n",
    "                    res += 1\n",
    "                    if res > 10000000:\n",
    "                        return -1\n",
    "    return res"
   ]
  },
  {
   "cell_type": "markdown",
   "metadata": {},
   "source": [
    "### test"
   ]
  },
  {
   "cell_type": "code",
   "execution_count": 4,
   "metadata": {},
   "outputs": [],
   "source": [
    "A = [1,5,2,1,4,0]"
   ]
  },
  {
   "cell_type": "code",
   "execution_count": 5,
   "metadata": {},
   "outputs": [
    {
     "data": {
      "text/plain": [
       "11"
      ]
     },
     "execution_count": 5,
     "metadata": {},
     "output_type": "execute_result"
    }
   ],
   "source": [
    "numberOfDiscIntersections(A)"
   ]
  },
  {
   "cell_type": "markdown",
   "metadata": {},
   "source": [
    "### more efficient algorithm will be added"
   ]
  },
  {
   "cell_type": "code",
   "execution_count": null,
   "metadata": {},
   "outputs": [],
   "source": []
  }
 ],
 "metadata": {
  "kernelspec": {
   "display_name": "Python 3",
   "language": "python",
   "name": "python3"
  },
  "language_info": {
   "codemirror_mode": {
    "name": "ipython",
    "version": 3
   },
   "file_extension": ".py",
   "mimetype": "text/x-python",
   "name": "python",
   "nbconvert_exporter": "python",
   "pygments_lexer": "ipython3",
   "version": "3.7.5"
  }
 },
 "nbformat": 4,
 "nbformat_minor": 2
}
