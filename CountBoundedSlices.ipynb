{
 "cells": [
  {
   "cell_type": "markdown",
   "metadata": {},
   "source": [
    "An integer K and a non-empty array A consisting of N integers are given.\n",
    "\n",
    "A pair of integers (P, Q), such that 0 ≤ P ≤ Q < N, is called a slice of array A.\n",
    "\n",
    "A bounded slice is a slice in which the difference between the maximum and minimum values in the slice is less than or equal to K. More precisely it is a slice, such that max(A[P], A[P + 1], ..., A[Q]) − min(A[P], A[P + 1], ..., A[Q]) ≤ K.\n",
    "\n",
    "The goal is to calculate the number of bounded slices.\n",
    "\n",
    "For example, consider K = 2 and array A such that:\n",
    "\n",
    "    A[0] = 3\n",
    "    A[1] = 5\n",
    "    A[2] = 7\n",
    "    A[3] = 6\n",
    "    A[4] = 3\n",
    "There are exactly nine bounded slices: (0, 0), (0, 1), (1, 1), (1, 2), (1, 3), (2, 2), (2, 3), (3, 3), (4, 4).\n",
    "\n",
    "Write a function:\n",
    "\n",
    "def solution(K, A)\n",
    "\n",
    "that, given an integer K and a non-empty array A of N integers, returns the number of bounded slices of array A.\n",
    "\n",
    "If the number of bounded slices is greater than 1,000,000,000, the function should return 1,000,000,000.\n",
    "\n",
    "For example, given:\n",
    "\n",
    "    A[0] = 3\n",
    "    A[1] = 5\n",
    "    A[2] = 7\n",
    "    A[3] = 6\n",
    "    A[4] = 3\n",
    "the function should return 9, as explained above."
   ]
  },
  {
   "cell_type": "code",
   "execution_count": 22,
   "metadata": {},
   "outputs": [],
   "source": [
    "# Not so efficient and not so elegant solution\n",
    "def find_max_min(l,p,q):\n",
    "    l2 = l[p:q+1]\n",
    "    mx = l2[0]\n",
    "    mn = l2[0]\n",
    "    for e in l2:\n",
    "        if mx > e:\n",
    "            mx = e\n",
    "        if mn < e:\n",
    "            mn = e\n",
    "    return abs(mn - mx)\n",
    "\n",
    "\n",
    "\n",
    "\n",
    "def coun_bounded_slices(K, A):\n",
    "    c = 0\n",
    "    for i in range(len(A)):\n",
    "        for j in range(i,len(A)):\n",
    "            if find_max_min(A, i, j) <= K:\n",
    "                print(i,j)\n",
    "                c += 1\n",
    "    return c"
   ]
  },
  {
   "cell_type": "markdown",
   "metadata": {},
   "source": [
    "#### test"
   ]
  },
  {
   "cell_type": "code",
   "execution_count": 23,
   "metadata": {},
   "outputs": [],
   "source": [
    "N = [3,5,7,6,3]"
   ]
  },
  {
   "cell_type": "code",
   "execution_count": 24,
   "metadata": {},
   "outputs": [
    {
     "name": "stdout",
     "output_type": "stream",
     "text": [
      "0 0\n",
      "0 1\n",
      "1 1\n",
      "1 2\n",
      "1 3\n",
      "2 2\n",
      "2 3\n",
      "3 3\n",
      "4 4\n"
     ]
    },
    {
     "data": {
      "text/plain": [
       "9"
      ]
     },
     "execution_count": 24,
     "metadata": {},
     "output_type": "execute_result"
    }
   ],
   "source": [
    "coun_bounded_slices(2,N)"
   ]
  },
  {
   "cell_type": "markdown",
   "metadata": {},
   "source": [
    "###  version 2 (just refactoring no efficiency improvement)"
   ]
  },
  {
   "cell_type": "code",
   "execution_count": 27,
   "metadata": {},
   "outputs": [],
   "source": [
    "def find_max_min(l, p, q, mn, mx):\n",
    "    l2 = l[p:q+1]\n",
    "    for e in l2:\n",
    "        if mx > e:\n",
    "            mx = e\n",
    "        if mn < e:\n",
    "            mn = e\n",
    "    return abs(mn - mx)"
   ]
  },
  {
   "cell_type": "code",
   "execution_count": 28,
   "metadata": {},
   "outputs": [],
   "source": [
    "def count_bounded_slices_2(K,A):\n",
    "    c = 0\n",
    "    for i in range(len(A)):\n",
    "        for j in range(i,len(A)):\n",
    "            mn = A[i]\n",
    "            mx = A[i]\n",
    "            if find_max_min(A, i, j, mn, mx) <= K:\n",
    "                print(i,j)\n",
    "                c += 1\n",
    "    return c\n",
    "             "
   ]
  },
  {
   "cell_type": "markdown",
   "metadata": {},
   "source": [
    "#### test"
   ]
  },
  {
   "cell_type": "code",
   "execution_count": 29,
   "metadata": {},
   "outputs": [
    {
     "name": "stdout",
     "output_type": "stream",
     "text": [
      "0 0\n",
      "0 1\n",
      "1 1\n",
      "1 2\n",
      "1 3\n",
      "2 2\n",
      "2 3\n",
      "3 3\n",
      "4 4\n"
     ]
    },
    {
     "data": {
      "text/plain": [
       "9"
      ]
     },
     "execution_count": 29,
     "metadata": {},
     "output_type": "execute_result"
    }
   ],
   "source": [
    "count_bounded_slices_2(2,N)"
   ]
  },
  {
   "cell_type": "code",
   "execution_count": null,
   "metadata": {},
   "outputs": [],
   "source": []
  },
  {
   "cell_type": "markdown",
   "metadata": {},
   "source": [
    "### Version 3 (further refactoring and some efficiency improvement)"
   ]
  },
  {
   "cell_type": "code",
   "execution_count": 32,
   "metadata": {},
   "outputs": [],
   "source": [
    "def find_diff(mn,mx):\n",
    "    return abs(mn-mx)"
   ]
  },
  {
   "cell_type": "code",
   "execution_count": 33,
   "metadata": {},
   "outputs": [],
   "source": [
    "def find_min_max(l, p, q, mn, mx):\n",
    "    if l[q] > mx:\n",
    "        mx = l[q]\n",
    "    if l[q] < mn:\n",
    "        mn = l[q]\n",
    "        \n",
    "    return mn, mx\n",
    "        "
   ]
  },
  {
   "cell_type": "code",
   "execution_count": 36,
   "metadata": {},
   "outputs": [],
   "source": [
    "def count_bounded_slices_3(K,A):\n",
    "    c = 0\n",
    "    for i in range(len(A)):\n",
    "        mn = A[i]\n",
    "        mx = A[i]\n",
    "        for j in range(i,len(A)):\n",
    "            mn, mx = find_min_max(A, i, j, mn, mx)\n",
    "            if find_diff(mn, mx) <= K:\n",
    "                print(i,j)\n",
    "                c += 1\n",
    "    return c\n",
    "         "
   ]
  },
  {
   "cell_type": "markdown",
   "metadata": {},
   "source": [
    "#### test"
   ]
  },
  {
   "cell_type": "code",
   "execution_count": 37,
   "metadata": {
    "scrolled": true
   },
   "outputs": [
    {
     "name": "stdout",
     "output_type": "stream",
     "text": [
      "0 0\n",
      "0 1\n",
      "1 1\n",
      "1 2\n",
      "1 3\n",
      "2 2\n",
      "2 3\n",
      "3 3\n",
      "4 4\n"
     ]
    },
    {
     "data": {
      "text/plain": [
       "9"
      ]
     },
     "execution_count": 37,
     "metadata": {},
     "output_type": "execute_result"
    }
   ],
   "source": [
    "count_bounded_slices_3(2,N)"
   ]
  },
  {
   "cell_type": "markdown",
   "metadata": {},
   "source": [
    "#### İmproved version will come, I am not that happy with the efficiency"
   ]
  },
  {
   "cell_type": "code",
   "execution_count": null,
   "metadata": {},
   "outputs": [],
   "source": []
  }
 ],
 "metadata": {
  "kernelspec": {
   "display_name": "Python 3",
   "language": "python",
   "name": "python3"
  },
  "language_info": {
   "codemirror_mode": {
    "name": "ipython",
    "version": 3
   },
   "file_extension": ".py",
   "mimetype": "text/x-python",
   "name": "python",
   "nbconvert_exporter": "python",
   "pygments_lexer": "ipython3",
   "version": "3.7.5"
  }
 },
 "nbformat": 4,
 "nbformat_minor": 2
}
