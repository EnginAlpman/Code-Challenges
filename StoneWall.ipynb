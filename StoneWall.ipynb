{
 "cells": [
  {
   "cell_type": "code",
   "execution_count": 1,
   "metadata": {},
   "outputs": [],
   "source": [
    "from IPython.display import Image\n",
    "from IPython.core.display import HTML "
   ]
  },
  {
   "cell_type": "markdown",
   "metadata": {},
   "source": [
    "# Stone Wall\n",
    "\n",
    "You are going to build a stone wall. The wall should be straight and N meters long, and its thickness should be constant; however, it should have different heights in different places. The height of the wall is specified by an array H of N positive integers. H[I] is the height of the wall from I to I+1 meters to the right of its left end. In particular, H[0] is the height of the wall's left end and H[N−1] is the height of the wall's right end.\n",
    "\n",
    "The wall should be built of cuboid stone blocks (that is, all sides of such blocks are rectangular). Your task is to compute the minimum number of blocks needed to build the wall.\n",
    "\n",
    "Write a function:\n",
    "\n",
    "def solution(H)\n",
    "\n",
    "that, given an array H of N positive integers specifying the height of the wall, returns the minimum number of blocks needed to build it.\n",
    "\n",
    "For example, given array H containing N = 9 integers:\n",
    "\n",
    "  H[0] = 8    H[1] = 8    H[2] = 5\n",
    "  H[3] = 7    H[4] = 9    H[5] = 8\n",
    "  H[6] = 7    H[7] = 4    H[8] = 8\n",
    "the function should return 7. The figure shows one possible arrangement of seven blocks.\n",
    "\n",
    "![Image of the wall](https://codility-frontend-prod.s3.amazonaws.com/media/task_static/stone_wall/static/images/auto/4f1cef49cc46d451e88109d449ab7975.png)"
   ]
  },
  {
   "cell_type": "code",
   "execution_count": 2,
   "metadata": {},
   "outputs": [],
   "source": [
    "# the time complexity is about O(N)\n",
    "def stoneWall(H):\n",
    "    \n",
    "    \n",
    "    n = len(H)\n",
    "    if n == 0:\n",
    "        return 0\n",
    "    \n",
    "    l = [H[0]]\n",
    "    count = 0\n",
    "    \n",
    "    for i in range(1, n):\n",
    "        \n",
    "        h = H[i]\n",
    "        \n",
    "        if len(l) == 0:\n",
    "            l.append(h)\n",
    "            continue\n",
    "        \n",
    "        if h < l[-1]:\n",
    "            del l[-1]\n",
    "            while len(l) != 0:\n",
    "                if h < l[-1]:\n",
    "                    del l[-1]\n",
    "                else:\n",
    "                    break\n",
    "        \n",
    "        if len(l) == 0:\n",
    "            l.append(h)\n",
    "            continue\n",
    "            \n",
    "        if h > l[-1]:\n",
    "            l.append(h)\n",
    "            \n",
    "        elif h == l[-1]:\n",
    "            count += 1\n",
    "            \n",
    "            \n",
    "    \n",
    "    return (n-count)\n",
    "            \n",
    "            "
   ]
  },
  {
   "cell_type": "markdown",
   "metadata": {},
   "source": [
    "### test"
   ]
  },
  {
   "cell_type": "code",
   "execution_count": 3,
   "metadata": {},
   "outputs": [],
   "source": [
    "H = [8,8,5,7,9,8,7,4,8]"
   ]
  },
  {
   "cell_type": "code",
   "execution_count": 4,
   "metadata": {},
   "outputs": [
    {
     "data": {
      "text/plain": [
       "7"
      ]
     },
     "execution_count": 4,
     "metadata": {},
     "output_type": "execute_result"
    }
   ],
   "source": [
    "stoneWall(H)"
   ]
  },
  {
   "cell_type": "code",
   "execution_count": 5,
   "metadata": {},
   "outputs": [],
   "source": [
    "A = [1,1,1]"
   ]
  },
  {
   "cell_type": "code",
   "execution_count": 6,
   "metadata": {},
   "outputs": [
    {
     "data": {
      "text/plain": [
       "1"
      ]
     },
     "execution_count": 6,
     "metadata": {},
     "output_type": "execute_result"
    }
   ],
   "source": [
    "stoneWall(A)"
   ]
  },
  {
   "cell_type": "markdown",
   "metadata": {},
   "source": [
    "more elegant solution will be added"
   ]
  },
  {
   "cell_type": "code",
   "execution_count": null,
   "metadata": {},
   "outputs": [],
   "source": []
  }
 ],
 "metadata": {
  "kernelspec": {
   "display_name": "Python 3",
   "language": "python",
   "name": "python3"
  },
  "language_info": {
   "codemirror_mode": {
    "name": "ipython",
    "version": 3
   },
   "file_extension": ".py",
   "mimetype": "text/x-python",
   "name": "python",
   "nbconvert_exporter": "python",
   "pygments_lexer": "ipython3",
   "version": "3.7.5"
  }
 },
 "nbformat": 4,
 "nbformat_minor": 2
}
